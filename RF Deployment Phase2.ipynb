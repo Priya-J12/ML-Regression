{
 "cells": [
  {
   "cell_type": "code",
   "execution_count": 1,
   "id": "15d20544-5fc5-453d-b2d7-9276d074419e",
   "metadata": {},
   "outputs": [],
   "source": [
    "import pickle"
   ]
  },
  {
   "cell_type": "code",
   "execution_count": 3,
   "id": "27006ea3-0ef4-4b79-b71c-99bcc6e76e24",
   "metadata": {},
   "outputs": [
    {
     "name": "stderr",
     "output_type": "stream",
     "text": [
      "C:\\Anaconda\\Lib\\site-packages\\sklearn\\base.py:493: UserWarning: X does not have valid feature names, but RandomForestRegressor was fitted with feature names\n",
      "  warnings.warn(\n"
     ]
    }
   ],
   "source": [
    "#pickle.load() is used to load an object from a file\n",
    "loaded_model=pickle.load(open(\"finalized_model_Forest.sav\",'rb')) #rb only to read file\n",
    "result=loaded_model.predict([[1234,456,4567,876,1]]) \n",
    "#loaded model in a file, passes the input and returns output for each data"
   ]
  },
  {
   "cell_type": "code",
   "execution_count": 5,
   "id": "b22036cd-2033-4cf1-8c79-d2b6170851ce",
   "metadata": {},
   "outputs": [
    {
     "data": {
      "text/plain": [
       "array([48971.3254])"
      ]
     },
     "execution_count": 5,
     "metadata": {},
     "output_type": "execute_result"
    }
   ],
   "source": [
    "result #execution result will be saved in this result"
   ]
  },
  {
   "cell_type": "code",
   "execution_count": null,
   "id": "f6d25736-5e6d-4a6f-880a-22ce02a4e7bc",
   "metadata": {},
   "outputs": [],
   "source": []
  }
 ],
 "metadata": {
  "kernelspec": {
   "display_name": "Python [conda env:base] *",
   "language": "python",
   "name": "conda-base-py"
  },
  "language_info": {
   "codemirror_mode": {
    "name": "ipython",
    "version": 3
   },
   "file_extension": ".py",
   "mimetype": "text/x-python",
   "name": "python",
   "nbconvert_exporter": "python",
   "pygments_lexer": "ipython3",
   "version": "3.12.7"
  }
 },
 "nbformat": 4,
 "nbformat_minor": 5
}
